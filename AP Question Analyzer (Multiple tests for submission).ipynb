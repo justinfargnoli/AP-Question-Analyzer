{
 "cells": [
  {
   "cell_type": "markdown",
   "metadata": {},
   "source": [
    "Intro:\n",
    "    All text cells refer to the ones bellow"
   ]
  },
  {
   "cell_type": "markdown",
   "metadata": {},
   "source": [
    "This cell imports the package numpy, refrencable as np, to easily story to data."
   ]
  },
  {
   "cell_type": "code",
   "execution_count": 1,
   "metadata": {
    "collapsed": true
   },
   "outputs": [],
   "source": [
    "import numpy as np"
   ]
  },
  {
   "cell_type": "markdown",
   "metadata": {},
   "source": [
    "This cell imports the tests that we will analyze."
   ]
  },
  {
   "cell_type": "code",
   "execution_count": 2,
   "metadata": {
    "collapsed": true
   },
   "outputs": [],
   "source": [
    "textFile15 = \"tests/ap15-frq-calculus-ab.txt\"\n",
    "preTextToString15 = open(textFile15, 'r')\n",
    "textToString15 = preTextToString15.read()\n",
    "preTextToString15.close()\n",
    "\n",
    "textFile16 = \"tests/ap16-frq-calculus-ab.txt\"\n",
    "preTextToString16 = open(textFile16, 'r')\n",
    "textToString16 = preTextToString16.read()\n",
    "preTextToString16.close()\n",
    "\n",
    "textFile17 = \"tests/ap17-frq-calculus-ab.txt\"\n",
    "preTextToString17 = open(textFile17, 'r')\n",
    "textToString17 = preTextToString17.read()\n",
    "preTextToString17.close()\n",
    "\n",
    "textFile18 = \"tests/ap18-frq-calculus-ab.txt\"\n",
    "preTextToString18 = open(textFile18, 'r')\n",
    "textToString18 = preTextToString18.read()\n",
    "preTextToString18.close()"
   ]
  },
  {
   "cell_type": "markdown",
   "metadata": {},
   "source": [
    "This cell \n",
    " 1. Breaks up the test into specific questions to be analyzed.\n",
    " 2. Then analyzed each questions and assigns a label to it depending on which topics are recognized by our code."
   ]
  },
  {
   "cell_type": "code",
   "execution_count": 3,
   "metadata": {
    "collapsed": true
   },
   "outputs": [],
   "source": [
    "def analyze(textToString):\n",
    "    sq1 = textToString.index(\"1. \")\n",
    "    eq1 = textToString.index(\"\\n\\n\", sq1)\n",
    "    q1 = textToString[sq1:eq1]\n",
    "\n",
    "    sq2 = textToString.index(\"2. \")\n",
    "    eq2 = textToString.index(\"\\n\\n\", sq2)\n",
    "    q2 = textToString[sq2:eq2]\n",
    "\n",
    "    sq3 = textToString.index(\"3. \")\n",
    "    eq3 = textToString.index(\"\\n\\n\", sq3)\n",
    "    q3 = textToString[sq3:eq3]\n",
    "\n",
    "    sq4 = textToString.index(\"4. \")\n",
    "    eq4 = textToString.index(\"\\n\\n\", sq4)\n",
    "    q4 = textToString[sq4:eq4]\n",
    "\n",
    "    sq5 = textToString.index(\"5. \")\n",
    "    eq5 = textToString.index(\"\\n\\n\", sq5)\n",
    "    q5 = textToString[sq5:eq5]\n",
    "\n",
    "    sq6 = textToString.index(\"6. \")\n",
    "    eq6 = textToString.index(\"\\n\\n\", sq6)\n",
    "    q6 = textToString[sq6:eq6]\n",
    "\n",
    "    testQuestions = np.array([[q1, \"\", \"\", \"\", \"\", \"\", \"\", \"\", \"\", \"\", \"\", \"\"],\n",
    "                     [q2, \"\", \"\", \"\", \"\", \"\", \"\", \"\", \"\", \"\", \"\", \"\"], \n",
    "                     [q3, \"\", \"\", \"\", \"\", \"\", \"\", \"\", \"\", \"\", \"\", \"\"], \n",
    "                     [q4, \"\", \"\", \"\", \"\", \"\", \"\", \"\", \"\", \"\", \"\", \"\"], \n",
    "                     [q5, \"\", \"\", \"\", \"\", \"\", \"\", \"\", \"\", \"\", \"\", \"\"],\n",
    "                     [q6, \"\", \"\", \"\", \"\", \"\", \"\", \"\", \"\", \"\", \"\", \"\"]])\n",
    "\n",
    "    for i in range(0, 6):\n",
    "        derivative = np.char.find(testQuestions[i, 0], 'derivative')\n",
    "        if derivative != -1:\n",
    "            testQuestions[i, 1] = 'derivative'\n",
    "        limit = np.char.find(testQuestions[i, 0], 'limit')\n",
    "        if limit != -1:\n",
    "            testQuestions[i, 2] = 'limit'\n",
    "        riemanSum = np.char.find(testQuestions[i, 0], 'Reimann sum')\n",
    "        if riemanSum != -1:\n",
    "            testQuestions[i, 3] = 'Riemann sum'\n",
    "        differentialEquation = np.char.find(testQuestions[i, 0], 'differential equation')\n",
    "        if differentialEquation != -1:\n",
    "            testQuestions[i, 4] = 'differential equation'\n",
    "        equationOfTangent = np.char.find(testQuestions[i, 0], 'equation of tangent line')\n",
    "        if equationOfTangent != -1:\n",
    "            testQuestions[i, 5] = 'equation of tangent line'\n",
    "        ln = np.char.find(testQuestions[i, 0], 'ln')\n",
    "        if ln != -1:\n",
    "            testQuestions[i, 6] = 'ln'\n",
    "        intergral = np.char.find(testQuestions[i, 0], 'intergral' or 'dx' or 'dt' or '∫')\n",
    "        if intergral != -1:\n",
    "            testQuestions[i, 7] = 'intergral'\n",
    "        acceleration = np.char.find(testQuestions[i, 0], 'acceleration' or 'a(t)')\n",
    "        if acceleration != -1:\n",
    "            testQuestions[i, 8] = 'acceleration or a(t)'\n",
    "        velocity = np.char.find(testQuestions[i, 0], 'velocity' or 'v(t)')\n",
    "        if velocity != -1:\n",
    "            testQuestions[i, 9] = 'velocity or v(t)'\n",
    "        derivInterpret = np.char.find(testQuestions[i, 0], 'interpret the meaning of')\n",
    "        if derivInterpret != -1:\n",
    "            testQuestions[i, 10] = 'interpret the meaning of'\n",
    "        crossSection = np.char.find(testQuestions[i, 0], 'cross sections perpendicular')\n",
    "        if crossSection != -1:\n",
    "            testQuestions[i, 11] = 'cross sections perpendicular' \n",
    "            \n",
    "    return testQuestions"
   ]
  },
  {
   "cell_type": "markdown",
   "metadata": {},
   "source": [
    "This cell takes takes the full test and gives it to the above cell to analyze."
   ]
  },
  {
   "cell_type": "code",
   "execution_count": 4,
   "metadata": {
    "collapsed": true
   },
   "outputs": [],
   "source": [
    "testQuestions15 = analyze(textToString15)\n",
    "testQuestions16 = analyze(textToString16)\n",
    "testQuestions17 = analyze(textToString17)\n",
    "testQuestions18 = analyze(textToString18)"
   ]
  },
  {
   "cell_type": "markdown",
   "metadata": {},
   "source": [
    "The remaining cells print out the output of the analyzed questions for different test years. "
   ]
  },
  {
   "cell_type": "code",
   "execution_count": 5,
   "metadata": {},
   "outputs": [
    {
     "name": "stdout",
     "output_type": "stream",
     "text": [
      "[[ '1. The rate at which rainwater flows into a drainpipe is modeled by the function R, where R\\x0bt \\x0c'\n",
      "  '' '' '' '' '' '' '' '' '' '' '']\n",
      " [ '2. Let f and g be the functions defined by f \\x0b x \\x0c 1 \\x0e x \\x0e e x \\x10 2 x and g\\x0b x \\x0c x 4 \\x10 6.5 x 2 \\x0e 6 x \\x0e 2. Let R and S\\nbe the two regions enclosed by the graphs of f and g shown in the figure above.\\n(a) Find the sum of the areas of regions R and S.\\n(b) Region S is the base of a solid whose cross sections perpendicular to the x-axis are squares. Find the\\nvolume of the solid.\\n(c) Let h be the vertical distance between the graphs of f and g in region S. Find the rate at which h changes\\nwith respect to x when x 1.8.'\n",
      "  '' '' '' '' '' '' '' '' '' '' 'cross sections perpendicular']\n",
      " [ '3. Johanna jogs along a straight path. For 0 \\x85 t \\x85 40, Johanna’s velocity is given by a differentiable function v.\\nSelected values of v\\x0bt \\x0c , where t is measured in minutes and v\\x0bt \\x0c is measured in meters per minute, are given in\\nthe table above.\\n(a) Use the data in the table to estimate the value of v\\x84\\x0b16\\x0c .\\n(b) Using correct units, explain the meaning of the definite integral\\nApproximate the value of'\n",
      "  '' '' '' '' '' '' '' '' 'velocity or v(t)' '' '']\n",
      " ['4. Consider the differential equation' '' '' '' 'differential equation'\n",
      "  '' '' '' '' '' '' '']\n",
      " [ '5. The figure above shows the graph of f \\x84, the derivative of a twice-differentiable function f, on the interval\\n> \\x103, 4 @. The graph of f \\x84 has horizontal tangents at x \\x101, x 1, and x 3. The areas of the regions\\nbounded by the x-axis and the graph of f \\x84 on the intervals > \\x102, 1@ and >1, 4 @ are 9 and 12, respectively.\\n(a) Find all x-coordinates at which f has a relative maximum. Give a reason for your answer.\\n(b) On what open intervals contained in \\x103 \\x1f x \\x1f 4 is the graph of f both concave down and decreasing?\\nGive a reason for your answer.\\n(c) Find the x-coordinates of all points of inflection for the graph of f. Give a reason for your answer.\\n(d) Given that f \\x0b1\\x0c'\n",
      "  'derivative' '' '' '' '' '' '' '' '' '' '']\n",
      " ['6. Consider the curve given by the equation y3 \\x10 xy' '' '' '' '' ''\n",
      "  '' '' '' '' '' '']]\n"
     ]
    }
   ],
   "source": [
    "print(testQuestions15)"
   ]
  },
  {
   "cell_type": "code",
   "execution_count": 6,
   "metadata": {},
   "outputs": [
    {
     "name": "stdout",
     "output_type": "stream",
     "text": [
      "[[ '1. Water is pumped into a tank at a rate modeled by W \\x0bt \\x0c 2000e \\x10 t 20 liters per hour for 0 \\x85 t \\x85 8, where t\\nis measured in hours. Water is removed from the tank at a rate modeled by R\\x0bt \\x0c liters per hour, where R is\\ndifferentiable and decreasing on 0 \\x85 t \\x85 8. Selected values of R\\x0bt \\x0c are shown in the table above. At time\\nt 0, there are 50,000 liters of water in the tank.\\n(a) Estimate R \\x84\\x0b2 \\x0c . Show the work that leads to your answer. Indicate units of measure.\\n(b) Use a left Riemann sum with the four subintervals indicated by the table to estimate the total amount of\\nwater removed from the tank during the 8 hours. Is this an overestimate or an underestimate of the total\\namount of water removed? Give a reason for your answer.\\n(c) Use your answer from part (b) to find an estimate of the total amount of water in the tank, to the nearest\\nliter, at the end of 8 hours.\\n(d) For 0 \\x85 t \\x85 8, is there a time t when the rate at which water is pumped into the tank is the same as the rate\\nat which water is removed from the tank? Explain why or why not.'\n",
      "  '' '' '' '' '' '' '' '' '' '' '']\n",
      " [ '2. For t \\x95 0, a particle moves along the x-axis. The velocity of the particle at time t is given by'\n",
      "  '' '' '' '' '' '' '' '' 'velocity or v(t)' '' '']\n",
      " [ '3. The figure above shows the graph of the piecewise-linear function f. For \\x10 4 \\x85 x \\x85 12, the function g is defined\\nby g\\x0b x \\x0c'\n",
      "  '' '' '' '' '' '' '' '' '' '' '']\n",
      " ['4. Consider the differential equation' '' '' '' 'differential equation'\n",
      "  '' '' '' '' '' '' '']\n",
      " [ '5. The inside of a funnel of height 10 inches has circular cross sections, as shown in the figure above. At height h,\\n1\\nthe radius of the funnel is given by r\\n3 \\x0e h 2 , where 0 \\x85 h \\x85 10. The units of r and h are inches.\\n20'\n",
      "  '' '' '' '' '' '' '' '' '' '' '']\n",
      " [ '6. The functions f and g have continuous second derivatives. The table above gives values of the functions and\\ntheir derivatives at selected values of x.\\n(a) Let k \\x0b x \\x0c'\n",
      "  'derivative' '' '' '' '' '' '' '' '' '' '']]\n"
     ]
    }
   ],
   "source": [
    "print(testQuestions16)"
   ]
  },
  {
   "cell_type": "code",
   "execution_count": 7,
   "metadata": {},
   "outputs": [
    {
     "name": "stdout",
     "output_type": "stream",
     "text": [
      "[[ '1. Find an expression for G(t ). Based on this model, what is the internal temperature of the\\npotato at time t = 3 ?'\n",
      "  '' '' '' '' '' '' '' '' '' '' '']\n",
      " [ '2. Is the speed of particle Q increasing, decreasing, or\\nneither at time t = 2 ? Explain your reasoning.\\n(d) Find the position of particle Q the first time it changes direction.'\n",
      "  '' '' '' '' '' '' '' '' '' '' '']\n",
      " [ '3. The function f is differentiable on the closed interval [−6, 5] and satisfies f (− 2) = 7. The graph of f ¢ , the\\nderivative of f, consists of a semicircle and three line segments, as shown in the figure above.\\n(a) Find the values of f (− 6) and f (5).\\n(b) On what intervals is f increasing? Justify your answer.\\n(c) Find the absolute minimum value of f on the closed interval [−6, 5] . Justify your answer.\\n(d) For each of f ≤(− 5) and f ≤(3), find the value or explain why it does not exist.'\n",
      "  'derivative' '' '' '' '' '' '' '' '' '' '']\n",
      " [ '4. At time t = 0, a boiled potato is taken from a pot on a stove and left to cool in a kitchen. The internal\\ntemperature of the potato is 91 degrees Celsius (°C) at time t = 0, and the internal temperature of the potato\\nis greater than 27 °C for all times t > 0. The internal temperature of the potato at time t minutes can be\\nmodeled by the function H that satisfies the differential equation'\n",
      "  '' '' '' 'differential equation' '' '' '' '' '' '' '']\n",
      " [ '5. Two particles move along the x-axis. For 0 £ t £ 8 , the position of particle P at time t is given by'\n",
      "  '' '' '' '' '' '' '' '' '' '' '']\n",
      " [ '6. Let f be the function defined by f (x) = cos (2 x) + e sin x.\\nLet g be a differentiable function. The table above gives values of g and its derivative g¢ at selected values\\nof x.\\nLet h be the function whose graph, consisting of five line segments, is shown in the figure above.\\n(a) Find the slope of the line tangent to the graph of f at x = p .\\n(b) Let k be the function defined by k (x) = h( f (x)). Find k ¢(p ).'\n",
      "  'derivative' '' '' '' '' '' '' '' '' '' '']]\n"
     ]
    }
   ],
   "source": [
    "print(testQuestions17)"
   ]
  },
  {
   "cell_type": "code",
   "execution_count": 8,
   "metadata": {},
   "outputs": [
    {
     "name": "stdout",
     "output_type": "stream",
     "text": [
      "[[ '1. People enter a line for an escalator at a rate modeled by the function r given by ⎧37\\nfor 0£t£300 for t > 300,\\nwhere r(t) is measured in people per second and t is measured in seconds. As people get on the escalator, they exit the line at a constant rate of 0.7 person per second. There are 20 people in line at time t = 0.\\n(a) How many people enter the line for the escalator during the time interval 0 £ t £ 300 ?\\n(b) During the time interval 0 £ t £ 300, there are always people in line for the escalator. How many people\\nare in line at time t = 300 ?\\n(c) For t > 300, what is the first time t that there are no people in line for the escalator?\\n(d) For 0 £ t £ 300, at what time t is the number of people in line a minimum? To the nearest whole number, find the number of people in line at this time. Justify your answer.'\n",
      "  '' '' '' '' '' '' '' '' '' '' '']\n",
      " [ '2. A particle moves along the x-axis with velocity given by v(t) = 10 sin(0.4t2) for time 0 £ t £ 3.5. t2 − t + 3\\nThe particle is at position x = −5 at time t = 0.\\n(a) Find the acceleration of the particle at time t = 3. (b) Find the position of the particle at time t = 3.\\n(c) Evaluate ∫3.5 v(t) dt, and evaluate ∫3.5 v(t) dt. Interpret the meaning of each integral in the context of 00\\nthe problem.\\n(d) A second particle moves along the x-axis with position given by x2(t) = t2 − t for 0 £ t £ 3.5. At what\\ntime t are the two particles moving with the same velocity?'\n",
      "  '' '' '' '' '' '' '' 'acceleration or a(t)' 'velocity or v(t)' '' '']\n",
      " [ '3. (b) Find the position of the particle at time t = 3.\\n(c) Evaluate ∫3.5 v(t) dt, and evaluate ∫3.5 v(t) dt. Interpret the meaning of each integral in the context of 00\\nthe problem.\\n(d) A second particle moves along the x-axis with position given by x2(t) = t2 − t for 0 £ t £ 3.5. At what\\ntime t are the two particles moving with the same velocity?'\n",
      "  '' '' '' '' '' '' '' '' 'velocity or v(t)' '' '']\n",
      " [ '4. The height of a tree at time t is given by a twice-differentiable function H, where H(t) is measured in meters and t is measured in years. Selected values of H(t) are given in the table above.\\n(a) Use the data in the table to estimate H¢(6). Using correct units, interpret the meaning of H¢(6) in the context of the problem.\\n(b) Explain why thzere must be at least one time t, for 2 < t < 10, such that H¢(t) = 2.\\n(c) Use a trapezoidal sum with the four subintervals indicated by the data in the table to approximate the\\naverage height of the tree over the time interval 2 £ t £ 10.\\n(d) The height of the tree, in meters, can also be modeled by the function G, given by G(x) = 100x , where\\n 1+x\\nx is the diameter of the base of the tree, in meters. When the tree is 50 meters tall, the diameter of the\\nbase of the tree is increasing at a rate of 0.03 meter per year. According to this model, what is the rate of change of the height of the tree with respect to time, in meters per year, at the time when the tree is\\n50 meters tall?'\n",
      "  '' '' '' '' '' '' '' '' '' 'interpret the meaning of' '']\n",
      " [ '5. t2 − t + 3\\nThe particle is at position x = −5 at time t = 0.\\n(a) Find the acceleration of the particle at time t = 3. (b) Find the position of the particle at time t = 3.\\n(c) Evaluate ∫3.5 v(t) dt, and evaluate ∫3.5 v(t) dt. Interpret the meaning of each integral in the context of 00\\nthe problem.\\n(d) A second particle moves along the x-axis with position given by x2(t) = t2 − t for 0 £ t £ 3.5. At what\\ntime t are the two particles moving with the same velocity?'\n",
      "  '' '' '' '' '' '' '' 'acceleration or a(t)' 'velocity or v(t)' '' '']\n",
      " [ '6. (a) If f(1) = 3, what is the value of f(−5) ?\\n(b) Evaluate ∫16 g(x) dx.\\n(c) For −5 < x < 6, on what open intervals, if any, is the graph of f both increasing and concave up? Give a\\nreason for your answer.\\n(d) Find the x-coordinate of each point of inflection of the graph of f. Give a reason for your answer.'\n",
      "  '' '' '' '' '' '' '' '' '' '' '']]\n"
     ]
    }
   ],
   "source": [
    "print(testQuestions18)"
   ]
  }
 ],
 "metadata": {
  "kernelspec": {
   "display_name": "Python 3",
   "language": "python",
   "name": "python3"
  },
  "language_info": {
   "codemirror_mode": {
    "name": "ipython",
    "version": 3
   },
   "file_extension": ".py",
   "mimetype": "text/x-python",
   "name": "python",
   "nbconvert_exporter": "python",
   "pygments_lexer": "ipython3",
   "version": "3.6.1"
  }
 },
 "nbformat": 4,
 "nbformat_minor": 2
}
