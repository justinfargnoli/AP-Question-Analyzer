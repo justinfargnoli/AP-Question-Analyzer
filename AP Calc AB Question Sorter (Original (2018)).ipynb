{
 "cells": [
  {
   "cell_type": "markdown",
   "metadata": {},
   "source": [
    "All related markdown cells will be above the related code cells.\n",
    "This cell imports the numpy and pandas packages - as np and pd respectively. Numpy to, take data in an array like structre and Pandas to take file input as .txt"
   ]
  },
  {
   "cell_type": "code",
   "execution_count": 21,
   "metadata": {
    "collapsed": true
   },
   "outputs": [],
   "source": [
    "import numpy as np"
   ]
  },
  {
   "cell_type": "markdown",
   "metadata": {},
   "source": [
    "This  cell imports a text file of a test\n",
    "    to get the text file you have to:\n",
    "        1. download the pdf from the CollegeBoard website\n",
    "        2. convert it to a text file\n",
    "        3. make sure its in utf-8 format"
   ]
  },
  {
   "cell_type": "code",
   "execution_count": 22,
   "metadata": {
    "collapsed": true
   },
   "outputs": [],
   "source": [
    "textFile = \"tests/ap18-frq-calculus-ab.txt\"\n",
    "preTextToString = open(textFile, 'r')\n",
    "textToString = preTextToString.read()\n",
    "preTextToString.close()"
   ]
  },
  {
   "cell_type": "markdown",
   "metadata": {},
   "source": [
    "This cell selects each question for the larger var textToString and assigns it to a new variable corresponding to the number of the question"
   ]
  },
  {
   "cell_type": "code",
   "execution_count": 23,
   "metadata": {
    "collapsed": true,
    "scrolled": true
   },
   "outputs": [],
   "source": [
    "sq1 = textToString.index(\"1. \")\n",
    "eq1 = textToString.index(\"\\n\\n\", sq1)\n",
    "q1 = textToString[sq1:eq1]\n",
    "\n",
    "sq2 = textToString.index(\"2. \")\n",
    "eq2 = textToString.index(\"\\n\\n\", sq2)\n",
    "q2 = textToString[sq2:eq2]\n",
    "\n",
    "sq3 = textToString.index(\"3. \")\n",
    "eq3 = textToString.index(\"\\n\\n\", sq3)\n",
    "q3 = textToString[sq3:eq3]\n",
    "\n",
    "sq4 = textToString.index(\"4. \")\n",
    "eq4 = textToString.index(\"\\n\\n\", sq4)\n",
    "q4 = textToString[sq4:eq4]\n",
    "\n",
    "sq5 = textToString.index(\"5. \")\n",
    "eq5 = textToString.index(\"\\n\\n\", sq5)\n",
    "q5 = textToString[sq5:eq5]\n",
    "\n",
    "sq6 = textToString.index(\"6. \")\n",
    "eq6 = textToString.index(\"\\n\\n\", sq6)\n",
    "q6 = textToString[sq6:eq6]"
   ]
  },
  {
   "cell_type": "markdown",
   "metadata": {},
   "source": [
    "This cell enters each of the question variables in a sub array with blank values for corresponding descriptors"
   ]
  },
  {
   "cell_type": "code",
   "execution_count": 24,
   "metadata": {
    "collapsed": true
   },
   "outputs": [],
   "source": [
    "testQuestions = np.array([[q1, \"\", \"\", \"\", \"\", \"\", \"\", \"\", \"\", \"\", \"\"],\n",
    "                 [q2, \"\", \"\", \"\", \"\", \"\", \"\", \"\", \"\", \"\", \"\"], \n",
    "                 [q3, \"\", \"\", \"\", \"\", \"\", \"\", \"\", \"\", \"\", \"\"], \n",
    "                 [q4, \"\", \"\", \"\", \"\", \"\", \"\", \"\", \"\", \"\", \"\"], \n",
    "                 [q5, \"\", \"\", \"\", \"\", \"\", \"\", \"\", \"\", \"\", \"\"],\n",
    "                 [q6, \"\", \"\", \"\", \"\", \"\", \"\", \"\", \"\", \"\", \"\"]])"
   ]
  },
  {
   "cell_type": "markdown",
   "metadata": {},
   "source": [
    "This cell analyzes each question and assigns the question a corresponding descriptor "
   ]
  },
  {
   "cell_type": "code",
   "execution_count": 25,
   "metadata": {
    "collapsed": true,
    "scrolled": false
   },
   "outputs": [],
   "source": [
    "for i in range(0, 6):\n",
    "    derivative = np.char.find(testQuestions[i, 0], 'derivative')\n",
    "    if derivative != -1:\n",
    "        testQuestions[i, 1] = 'derivative'\n",
    "    limit = np.char.find(testQuestions[i, 0], 'limit')\n",
    "    if limit != -1:\n",
    "        testQuestions[i, 2] = 'limit'\n",
    "    riemanSum = np.char.find(testQuestions[i, 0], 'Reimann sum')\n",
    "    if riemanSum != -1:\n",
    "        testQuestions[i, 3] = 'Riemann sum'\n",
    "    differentialEquation = np.char.find(testQuestions[i, 0], 'differential equation')\n",
    "    if differentialEquation != -1:\n",
    "        testQuestions[i, 4] = 'differential equation'\n",
    "    equationOfTangent = np.char.find(testQuestions[i, 0], 'equation of tangent line')\n",
    "    if equationOfTangent != -1:\n",
    "        testQuestions[i, 5] = 'equation of tangent line'\n",
    "    ln = np.char.find(testQuestions[i, 0], 'ln')\n",
    "    if ln != -1:\n",
    "        testQuestions[i, 6] = 'ln'\n",
    "    intergral = np.char.find(testQuestions[i, 0], 'intergral' or 'dx' or 'dt' or '∫')\n",
    "    if intergral != -1:\n",
    "        testQuestions[i, 7] = 'intergral'\n",
    "    acceleration = np.char.find(testQuestions[i, 0], 'acceleration' or 'a(t)')\n",
    "    if acceleration != -1:\n",
    "        testQuestions[i, 8] = 'acceleration or a(t)'\n",
    "    velocity = np.char.find(testQuestions[i, 0], 'velocity' or 'v(t)')\n",
    "    if velocity != -1:\n",
    "        testQuestions[i, 9] = 'velocity or v(t)'\n",
    "    derivInterpret = np.char.find(testQuestions[i, 0], 'interpret the meaning of')\n",
    "    if derivInterpret != -1:\n",
    "        testQuestions[i, 10] = 'interpret the meaning of'"
   ]
  },
  {
   "cell_type": "code",
   "execution_count": 26,
   "metadata": {},
   "outputs": [
    {
     "name": "stdout",
     "output_type": "stream",
     "text": [
      "[[ '1. People enter a line for an escalator at a rate modeled by the function r given by ⎧37\\nfor 0£t£300 for t > 300,\\nwhere r(t) is measured in people per second and t is measured in seconds. As people get on the escalator, they exit the line at a constant rate of 0.7 person per second. There are 20 people in line at time t = 0.\\n(a) How many people enter the line for the escalator during the time interval 0 £ t £ 300 ?\\n(b) During the time interval 0 £ t £ 300, there are always people in line for the escalator. How many people\\nare in line at time t = 300 ?\\n(c) For t > 300, what is the first time t that there are no people in line for the escalator?\\n(d) For 0 £ t £ 300, at what time t is the number of people in line a minimum? To the nearest whole number, find the number of people in line at this time. Justify your answer.'\n",
      "  '' '' '' '' '' '' '' '' '' '']\n",
      " [ '2. A particle moves along the x-axis with velocity given by v(t) = 10 sin(0.4t2) for time 0 £ t £ 3.5. t2 − t + 3\\nThe particle is at position x = −5 at time t = 0.\\n(a) Find the acceleration of the particle at time t = 3. (b) Find the position of the particle at time t = 3.\\n(c) Evaluate ∫3.5 v(t) dt, and evaluate ∫3.5 v(t) dt. Interpret the meaning of each integral in the context of 00\\nthe problem.\\n(d) A second particle moves along the x-axis with position given by x2(t) = t2 − t for 0 £ t £ 3.5. At what\\ntime t are the two particles moving with the same velocity?'\n",
      "  '' '' '' '' '' '' '' 'acceleration or a(t)' 'velocity or v(t)' '']\n",
      " [ '3. (b) Find the position of the particle at time t = 3.\\n(c) Evaluate ∫3.5 v(t) dt, and evaluate ∫3.5 v(t) dt. Interpret the meaning of each integral in the context of 00\\nthe problem.\\n(d) A second particle moves along the x-axis with position given by x2(t) = t2 − t for 0 £ t £ 3.5. At what\\ntime t are the two particles moving with the same velocity?'\n",
      "  '' '' '' '' '' '' '' '' 'velocity or v(t)' '']\n",
      " [ '4. The height of a tree at time t is given by a twice-differentiable function H, where H(t) is measured in meters and t is measured in years. Selected values of H(t) are given in the table above.\\n(a) Use the data in the table to estimate H¢(6). Using correct units, interpret the meaning of H¢(6) in the context of the problem.\\n(b) Explain why thzere must be at least one time t, for 2 < t < 10, such that H¢(t) = 2.\\n(c) Use a trapezoidal sum with the four subintervals indicated by the data in the table to approximate the\\naverage height of the tree over the time interval 2 £ t £ 10.\\n(d) The height of the tree, in meters, can also be modeled by the function G, given by G(x) = 100x , where\\n 1+x\\nx is the diameter of the base of the tree, in meters. When the tree is 50 meters tall, the diameter of the\\nbase of the tree is increasing at a rate of 0.03 meter per year. According to this model, what is the rate of change of the height of the tree with respect to time, in meters per year, at the time when the tree is\\n50 meters tall?'\n",
      "  '' '' '' '' '' '' '' '' '' 'interpret the meaning of']\n",
      " [ '5. t2 − t + 3\\nThe particle is at position x = −5 at time t = 0.\\n(a) Find the acceleration of the particle at time t = 3. (b) Find the position of the particle at time t = 3.\\n(c) Evaluate ∫3.5 v(t) dt, and evaluate ∫3.5 v(t) dt. Interpret the meaning of each integral in the context of 00\\nthe problem.\\n(d) A second particle moves along the x-axis with position given by x2(t) = t2 − t for 0 £ t £ 3.5. At what\\ntime t are the two particles moving with the same velocity?'\n",
      "  '' '' '' '' '' '' '' 'acceleration or a(t)' 'velocity or v(t)' '']\n",
      " [ '6. (a) If f(1) = 3, what is the value of f(−5) ?\\n(b) Evaluate ∫16 g(x) dx.\\n(c) For −5 < x < 6, on what open intervals, if any, is the graph of f both increasing and concave up? Give a\\nreason for your answer.\\n(d) Find the x-coordinate of each point of inflection of the graph of f. Give a reason for your answer.'\n",
      "  '' '' '' '' '' '' '' '' '' '']]\n"
     ]
    }
   ],
   "source": [
    "print(testQuestions)"
   ]
  },
  {
   "cell_type": "code",
   "execution_count": null,
   "metadata": {
    "collapsed": true
   },
   "outputs": [],
   "source": []
  }
 ],
 "metadata": {
  "kernelspec": {
   "display_name": "Python 3",
   "language": "python",
   "name": "python3"
  },
  "language_info": {
   "codemirror_mode": {
    "name": "ipython",
    "version": 3
   },
   "file_extension": ".py",
   "mimetype": "text/x-python",
   "name": "python",
   "nbconvert_exporter": "python",
   "pygments_lexer": "ipython3",
   "version": "3.6.1"
  }
 },
 "nbformat": 4,
 "nbformat_minor": 2
}
